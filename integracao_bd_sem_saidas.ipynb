{
 "cells": [
  {
   "cell_type": "markdown",
   "id": "e4a80e5b-555c-4bca-ac18-051c7b59fa3f",
   "metadata": {},
   "source": [
    "**Parte 2: Python e Integração com Banco de Dados**\n",
    "> Neste curso, vamos utilizar o SGBD SQLite.\n",
    "\n",
    "> O SQLite é um sistema de gerenciamento de banco de dados leve, que usa arquivos para armazenar os dados.\n",
    "Dessa forma, não é necessário instalar um servidor para usá-lo, o que o torna ideal para pequenos projetos ou demonstrações.\n",
    ">\n",
    "> Por padrão, o módulo do sqlite já vem instalado no ambiente Python para versões acima de 2.7.\n",
    "\n",
    "\n",
    "> Importe a biblioteca do sqlite3 para começar\n",
    "\n",
    "```import sqlite3```"
   ]
  },
  {
   "cell_type": "code",
   "execution_count": 1,
   "id": "d9ee1116-d723-414f-876e-74ec0755575f",
   "metadata": {},
   "outputs": [],
   "source": []
  },
  {
   "cell_type": "markdown",
   "id": "b3f36359-6e2d-4083-8091-c8c1bc62fcb9",
   "metadata": {},
   "source": [
    "> Como o sqlite trabalha com banco de dados em arquivos, para abrir uma conexão, basta informar o nome do arquivo desejado.\n",
    ">\n",
    "> Caso o arquivo não exista, ele será criado. Caso contrário, será aberta uma conexão com o arquivo existente.\n",
    "\n",
    "```\n",
    "conexao = sqlite3.connect('meu_banco.bd')\n",
    "```\n",
    "\n",
    "> Além de uma conexão, precisaremos do que chamamos de `cursor` para conseguir executar comandos SQL nesse banco.\n",
    "\n",
    "```\n",
    "cursor = conexao.cursor()\n",
    "```"
   ]
  },
  {
   "cell_type": "code",
   "execution_count": 2,
   "id": "da45d975-74b3-4f28-a512-a296c0a75a7a",
   "metadata": {},
   "outputs": [],
   "source": []
  },
  {
   "cell_type": "markdown",
   "id": "6603b833-8bb0-4fb6-b525-000de3fb7ff6",
   "metadata": {},
   "source": [
    "> Como já possuímos acesso ao banco de dados, podemos começar criando uma tabela de exemplo nele.\n",
    "> Vamos definir o código SQL para criar a tabela de exemplo.\n",
    "```\n",
    "comando_sql = \"\"\"\n",
    "CREATE TABLE IF NOT EXISTS clientes (\n",
    "    id INTEGER PRIMARY KEY AUTOINCREMENT,\n",
    "    nome TEXT NOT NULL,\n",
    "    idade INTEGER,\n",
    "    email TEXT UNIQUE NOT NULL\n",
    ");\n",
    "\"\"\"\n",
    "```\n",
    "\n",
    "> Agora, vamos executar o comando SQL acima em nosso banco de dados usando a função `execute()` do cursor.\n",
    "```\n",
    "cursor.execute(comando_sql)\n",
    "```"
   ]
  },
  {
   "cell_type": "code",
   "execution_count": 3,
   "id": "df7f7011-7ac0-4743-b79b-95c54968eafe",
   "metadata": {},
   "outputs": [
    {
     "data": {
      "text/plain": [
       "<sqlite3.Cursor at 0x7f4bdca027c0>"
      ]
     },
     "execution_count": 3,
     "metadata": {},
     "output_type": "execute_result"
    }
   ],
   "source": []
  },
  {
   "cell_type": "markdown",
   "id": "b2858249-e1a1-4c0c-83cc-226bd18b6775",
   "metadata": {},
   "source": [
    "> Agora que já possuímos a tabela, podemos inserir dados nela usando o statement `INSERT` do SQL.\n",
    "> Como já vimos como executar UMA query no banco de dados, agora veremos como executar várias inserções a partir de uma lista de tuplas.\n",
    ">\n",
    "> Vamos criar uma lista de tuplas, onde cada tupla contém as informações de um cliente.\n",
    "```\n",
    "clientes = [\n",
    "    ('Maria', 30, 'maria@example.com'),\n",
    "    ('João', 25, 'joao@example.com'),\n",
    "    ('Ana', 40, 'ana@example.com')\n",
    "]\n",
    "```\n",
    "\n",
    "> Agora, criamos a query e passamos a lista de tuplas para a função `executemany()` do cursor.\n",
    "> Observe que, na query, utilizamos o caractere `?` no lugar dos valores a serem inseridos. Essa é uma prática recomendada para evitar ataques de injeção de SQL. Cada `?` será substituído pelo respectivo valor de cada cliente pelo cursor.\n",
    "\n",
    "```\n",
    "cursor.executemany(\"INSERT INTO clientes (nome, idade, email) VALUES (?, ?, ?)\", clientes)\n",
    "```\n",
    "\n",
    "> Tem um detalhe importante aqui. Após cada comando de `INSERT` ou `UPDATE`, precisamos dizer ao SGBD que já terminamos, para que ele possa, de fato, gravar os dados no banco de dados. Para isso, usa-se a função `commit()` da conexão. Se isso não for feito, as alterações só estarão visíveis para a conexão atual ao SGBD. Outras conexões, que podem estar ocorrendo em outros scripts ou usuários do SGBD não conseguirão ver as alterações.\n",
    "> \n",
    "> Cada operação no banco de dados é chamada de `TRANSACTION`, ou seja, uma transação. Os SGBDs atuais fazem o controle de transações para garantir a consistência dos dados, principalmente considerando que operações paralelas são comuns. Caso queira ler mais sobre, veja este [link](https://pt.wikipedia.org/wiki/ACID).\n",
    "\n",
    "```\n",
    "conexao.commit()\n",
    "```"
   ]
  },
  {
   "cell_type": "code",
   "execution_count": 4,
   "id": "624845b4-3c7c-49e2-9f02-bff42b678385",
   "metadata": {},
   "outputs": [],
   "source": []
  },
  {
   "cell_type": "markdown",
   "id": "8307f6ef-5dc2-4071-a9aa-5a46c23ff4c7",
   "metadata": {},
   "source": [
    "> Agora vamos verificar se os dados foram inseridos no banco de dados corretamente. Para isso, fazemos um `SELECT` de todos os registros da tabela `clientes`\n",
    ">\n",
    "> A função `fetchall()` do cursor pede ao SGBD que todos os registros retornados na query sejam retornados para o script. Outras opções são `fetchone()` para obter somente uma linha do resultado ou `fetchmany(n)` para obter `n` linhas do resultado.\n",
    ">\n",
    "> Atribuímos o retorno da chamada ao `fetchall()` a uma variável e imprimimos cada elemento.\n",
    "\n",
    "\n",
    "```\n",
    "cursor.execute(\"SELECT * FROM clientes\")\n",
    "clientes = cursor.fetchall()\n",
    "for cliente in clientes:\n",
    "    print(cliente)\n",
    "```"
   ]
  },
  {
   "cell_type": "code",
   "execution_count": 5,
   "id": "4255e5bb-bf52-4e1c-80a3-4d83a6268461",
   "metadata": {},
   "outputs": [
    {
     "name": "stdout",
     "output_type": "stream",
     "text": [
      "(1, 'Maria', 30, 'maria@example.com')\n",
      "(2, 'João', 25, 'joao@example.com')\n",
      "(3, 'Ana', 40, 'ana@example.com')\n"
     ]
    }
   ],
   "source": []
  },
  {
   "attachments": {},
   "cell_type": "markdown",
   "id": "3709ac10-afa2-4fea-abb0-dcfeca790098",
   "metadata": {},
   "source": [
    "> A partir de agora, vamos trabalhar com o modelo do banco de dados que criamos no nosso [curso anterior](https://www.youtube.com/watch?v=S6lWIfedLH0).\n",
    ">\n",
    "> O banco foi modelado para representar clientes, produtos e compras desses produtos feitas pelos clientes. O modelo lógico é apresentado a seguir.\n",
    "![image](bd_compras_modelo.png)\n",
    "\n",
    "\n",
    "> O modelo físico (script SQL) está contido no arquivo [bd_compras_modelo.sql](bd_compras_modelo.sql). Ele também contém alguns dados de exemplos para serem carregados no banco.\n",
    "\n",
    "\n",
    "> Vamos começar criando uma nova conexão para um novo banco de dados sqlite.\n",
    "\n",
    "```\n",
    "conexao = sqlite3.connect('bd_compras.db')\n",
    "cursor = conexao.cursor()\n",
    "```"
   ]
  },
  {
   "cell_type": "code",
   "execution_count": 6,
   "id": "567c6556-2866-4bd4-93da-ffc9ffee9707",
   "metadata": {},
   "outputs": [],
   "source": []
  },
  {
   "cell_type": "markdown",
   "id": "f3a881c7-49de-4408-aab5-60841df9917b",
   "metadata": {},
   "source": [
    "> Agora vamos importar o script em nosso código e depois aplicá-lo ao novo banco de dados.\n",
    "\n",
    "```\n",
    "arquivo_sql = open('bd_compras_modelo.sql', 'r')\n",
    "sql = arquivo_sql.read()\n",
    "cursor.executescript(sql)\n",
    "```\n"
   ]
  },
  {
   "cell_type": "code",
   "execution_count": 7,
   "id": "3d64edf2-d3e4-4e11-a950-c2fedbc47d40",
   "metadata": {},
   "outputs": [
    {
     "data": {
      "text/plain": [
       "<sqlite3.Cursor at 0x7f4bdca02bc0>"
      ]
     },
     "execution_count": 7,
     "metadata": {},
     "output_type": "execute_result"
    }
   ],
   "source": []
  },
  {
   "cell_type": "markdown",
   "id": "55b1b539-8338-45ee-8c46-35dda6ca066d",
   "metadata": {},
   "source": [
    "> Verificando se os dados foram inseridos corretamente.\n",
    ">\n",
    "> \n",
    "```\n",
    "cursor.execute(\"SELECT * FROM cliente\")\n",
    "clientes = cursor.fetchall()\n",
    "print('Clientes:')\n",
    "for cliente in clientes:\n",
    "    print(cliente)\n",
    "\n",
    "cursor.execute(\"SELECT * FROM produto\")\n",
    "produtos = cursor.fetchall()\n",
    "print('Produtos:')\n",
    "for produto in produtos:\n",
    "    print(produto)\n",
    "\n",
    "cursor.execute(\"SELECT * FROM compra INNER JOIN cliente on compra.codcliente=cliente.codigocliente\")\n",
    "compras = cursor.fetchall()\n",
    "print('Compras:')\n",
    "for compra in compras:\n",
    "    print(compra)\n",
    "```"
   ]
  },
  {
   "cell_type": "code",
   "execution_count": 8,
   "id": "9449b9fb-d5fb-4718-aae5-93166dbcaebe",
   "metadata": {},
   "outputs": [
    {
     "name": "stdout",
     "output_type": "stream",
     "text": [
      "Clientes:\n",
      "('Heleno', '21 99999 9999', 1)\n",
      "('Maria', '21 88888 8888', 2)\n",
      "('Marcela', '21 77777 7777', 3)\n",
      "('Carlos', '21 66666 6666', 4)\n",
      "('Ana', '21 55555 5555', 5)\n",
      "('João', '21 44444 4444', 6)\n",
      "('Laura', '21 33333 3333', 7)\n",
      "('Paulo', '21 22222 2222', 8)\n",
      "Produtos:\n",
      "('Ovo', 1.0, 1)\n",
      "('Óleo', 5.0, 2)\n",
      "('Farinha', 5.9, 3)\n",
      "('Arroz', 3.5, 4)\n",
      "('Feijão', 4.5, 5)\n",
      "('Macarrão', 2.5, 6)\n",
      "('Açúcar', 2.9, 7)\n",
      "('Sal', 1.2, 8)\n",
      "Compras:\n",
      "('17/06/2024', 15.9, 1, 1, 'Heleno', '21 99999 9999', 1)\n",
      "('17/06/2024', 1.0, 1, 2, 'Heleno', '21 99999 9999', 1)\n",
      "('18/06/2024', 7.0, 2, 3, 'Maria', '21 88888 8888', 2)\n",
      "('18/06/2024', 4.5, 3, 4, 'Marcela', '21 77777 7777', 3)\n",
      "('18/06/2024', 20.0, 4, 5, 'Carlos', '21 66666 6666', 4)\n",
      "('18/06/2024', 53.2, 5, 6, 'Ana', '21 55555 5555', 5)\n",
      "('18/06/2024', 34.9, 6, 7, 'João', '21 44444 4444', 6)\n"
     ]
    }
   ],
   "source": []
  },
  {
   "cell_type": "markdown",
   "id": "f5c6dc7e-125c-4cb9-ba50-b2dd4ede0aea",
   "metadata": {},
   "source": [
    "> Agora vamos testar cada tipo de query nesse banco.\n",
    "\n",
    "\n",
    "> `INSERT`\n",
    "> \n",
    "> Vamos ver um exemplo sem utilizar o modo recomendado e depois o modo recomendado.\n",
    "```\n",
    "# modo não recomendado\n",
    "cursor.execute(\"INSERT INTO cliente (nome, telefone) VALUES ('Clodoaldo', '21 12345 6789')\");\n",
    "\n",
    "# modo recomendado\n",
    "cursor.execute(\"INSERT INTO cliente (nome, telefone) VALUES (?, ?)\", ('Josefina', '11 98765 4321') );\n",
    "\n",
    "conexao.commit()\n",
    "cursor.execute(\"SELECT * FROM cliente\")\n",
    "clientes = cursor.fetchall()\n",
    "print('Clientes:')\n",
    "for cliente in clientes:\n",
    "    print(cliente)\n",
    "```"
   ]
  },
  {
   "cell_type": "code",
   "execution_count": 9,
   "id": "9228804c-33ac-42f9-a592-209458a40be0",
   "metadata": {},
   "outputs": [
    {
     "name": "stdout",
     "output_type": "stream",
     "text": [
      "Clientes:\n",
      "('Heleno', '21 99999 9999', 1)\n",
      "('Maria', '21 88888 8888', 2)\n",
      "('Marcela', '21 77777 7777', 3)\n",
      "('Carlos', '21 66666 6666', 4)\n",
      "('Ana', '21 55555 5555', 5)\n",
      "('João', '21 44444 4444', 6)\n",
      "('Laura', '21 33333 3333', 7)\n",
      "('Paulo', '21 22222 2222', 8)\n",
      "('Clodoaldo', '21 12345 6789', 9)\n",
      "('Josefina', '11 98765 4321', 10)\n"
     ]
    }
   ],
   "source": []
  },
  {
   "cell_type": "markdown",
   "id": "98ab73d9-bf2b-4afa-8fcf-9fedbf2fe627",
   "metadata": {},
   "source": [
    "> Para atualizar algum dado existente utilizamos o `UPDATE`\n",
    "\n",
    "```\n",
    "cursor.execute(\"UPDATE cliente SET telefone = ? WHERE nome = ?\", ('21 99888 9988', 'Heleno'))\n",
    "conexao.commit()\n",
    "\n",
    "print('Clientes:')\n",
    "for cliente in clientes:\n",
    "    print(cliente)\n",
    "```"
   ]
  },
  {
   "cell_type": "code",
   "execution_count": 10,
   "id": "32b7b8f8-f0bb-4628-9810-cc94a1acf200",
   "metadata": {},
   "outputs": [
    {
     "name": "stdout",
     "output_type": "stream",
     "text": [
      "Clientes:\n",
      "('Heleno', '21 99999 9999', 1)\n",
      "('Maria', '21 88888 8888', 2)\n",
      "('Marcela', '21 77777 7777', 3)\n",
      "('Carlos', '21 66666 6666', 4)\n",
      "('Ana', '21 55555 5555', 5)\n",
      "('João', '21 44444 4444', 6)\n",
      "('Laura', '21 33333 3333', 7)\n",
      "('Paulo', '21 22222 2222', 8)\n",
      "('Clodoaldo', '21 12345 6789', 9)\n",
      "('Josefina', '11 98765 4321', 10)\n"
     ]
    }
   ],
   "source": []
  },
  {
   "cell_type": "markdown",
   "id": "ff5183fd-3066-4915-9ca0-4e55620b6f78",
   "metadata": {},
   "source": [
    "> Reparou que ao executar o código acima, o telefone do cliente `Heleno` não foi atualizado?\n",
    "\n",
    "> Na verdade, foi atualizado sim. Mas estamos iterando sobre a lista de `clientes` recuperada do banco de dados antes da atualização. Precisamos recuperar as informações atualizadas.\n",
    "```\n",
    "cursor.execute(\"SELECT * FROM cliente\")\n",
    "clientes = cursor.fetchall()\n",
    "print('Clientes:')\n",
    "for cliente in clientes:\n",
    "    print(cliente)\n",
    "```"
   ]
  },
  {
   "cell_type": "code",
   "execution_count": 11,
   "id": "327ba50c-25d8-4c4f-bc23-ea0b7f9e331d",
   "metadata": {},
   "outputs": [
    {
     "name": "stdout",
     "output_type": "stream",
     "text": [
      "Clientes:\n",
      "('Heleno', '21 99888 9988', 1)\n",
      "('Maria', '21 88888 8888', 2)\n",
      "('Marcela', '21 77777 7777', 3)\n",
      "('Carlos', '21 66666 6666', 4)\n",
      "('Ana', '21 55555 5555', 5)\n",
      "('João', '21 44444 4444', 6)\n",
      "('Laura', '21 33333 3333', 7)\n",
      "('Paulo', '21 22222 2222', 8)\n",
      "('Clodoaldo', '21 12345 6789', 9)\n",
      "('Josefina', '11 98765 4321', 10)\n"
     ]
    }
   ],
   "source": []
  },
  {
   "cell_type": "markdown",
   "id": "10465a28-8124-4bbd-8db8-c53be540fbcb",
   "metadata": {},
   "source": [
    "> Outra opção é recuperar somente o cliente que queremos verificar. No caso, o cliente de nome `Heleno`.\n",
    "```\n",
    "cursor.execute(\"SELECT * from cliente WHERE nome = ? \", (\"Heleno\",) )\n",
    "print(cursor.fetchone())\n",
    "```"
   ]
  },
  {
   "cell_type": "code",
   "execution_count": 12,
   "id": "e7a33057-dbfc-4016-8209-b85cd7374d37",
   "metadata": {},
   "outputs": [
    {
     "name": "stdout",
     "output_type": "stream",
     "text": [
      "('Heleno', '21 99888 9988', 1)\n"
     ]
    }
   ],
   "source": []
  },
  {
   "cell_type": "markdown",
   "id": "71052fe3-3467-4b37-977f-9b1619471e23",
   "metadata": {},
   "source": [
    "> Para apagar registros do banco de dados, usamos o statement SQL `DELETE`\n",
    "```\n",
    "cursor.execute(\"SELECT * from cliente WHERE nome = ? \", (\"Ana\",) )\n",
    "print(cursor.fetchone())\n",
    "\n",
    "cursor.execute(\"DELETE FROM cliente WHERE nome = ?\", ('Ana',))\n",
    "conexao.commit()\n",
    "\n",
    "cursor.execute(\"SELECT * from cliente WHERE nome = ? \", (\"Ana\",) )\r\n",
    "print(cursor.fetchone())\n",
    "```"
   ]
  },
  {
   "cell_type": "code",
   "execution_count": 13,
   "id": "f2db5337-3359-4f6c-8ca2-000181e759d9",
   "metadata": {},
   "outputs": [
    {
     "name": "stdout",
     "output_type": "stream",
     "text": [
      "('Ana', '21 55555 5555', 5)\n",
      "None\n"
     ]
    }
   ],
   "source": []
  },
  {
   "cell_type": "markdown",
   "id": "7efb8c4e-787c-4eca-9c6f-117fb520eb2a",
   "metadata": {},
   "source": [
    "> Para trabalhar com análise de dados vindos do banco de dados, pode ser interessante utilizar a biblioteca Pandas.\n",
    "> Para quem não tem familiaridade com a biblioteca, sugerimos que façam os cursos anteriores: [Jupyter Notebooks](https://www.youtube.com/watch?v=CaPMY5D2aPg) e [21ª SNCT | Análise de Dados: incidência de dengue no Brasil](https://www.youtube.com/watch?v=nliDqD81rAI).\n",
    "\n",
    "```\n",
    "import pandas as pd\n",
    "\n",
    "df_clientes = pd.read_sql_query(\"SELECT * FROM cliente\", conexao)\n",
    "print(\"Dados carregados em um DataFrame:\")\n",
    "df_clientes\n",
    "```"
   ]
  },
  {
   "cell_type": "code",
   "execution_count": 14,
   "id": "e78b628e-a3a8-43b4-b306-420733751cb3",
   "metadata": {},
   "outputs": [
    {
     "data": {
      "text/html": [
       "<div>\n",
       "<style scoped>\n",
       "    .dataframe tbody tr th:only-of-type {\n",
       "        vertical-align: middle;\n",
       "    }\n",
       "\n",
       "    .dataframe tbody tr th {\n",
       "        vertical-align: top;\n",
       "    }\n",
       "\n",
       "    .dataframe thead th {\n",
       "        text-align: right;\n",
       "    }\n",
       "</style>\n",
       "<table border=\"1\" class=\"dataframe\">\n",
       "  <thead>\n",
       "    <tr style=\"text-align: right;\">\n",
       "      <th></th>\n",
       "      <th>nome</th>\n",
       "      <th>telefone</th>\n",
       "      <th>codigocliente</th>\n",
       "    </tr>\n",
       "  </thead>\n",
       "  <tbody>\n",
       "    <tr>\n",
       "      <th>0</th>\n",
       "      <td>Heleno</td>\n",
       "      <td>21 99888 9988</td>\n",
       "      <td>1</td>\n",
       "    </tr>\n",
       "    <tr>\n",
       "      <th>1</th>\n",
       "      <td>Maria</td>\n",
       "      <td>21 88888 8888</td>\n",
       "      <td>2</td>\n",
       "    </tr>\n",
       "    <tr>\n",
       "      <th>2</th>\n",
       "      <td>Marcela</td>\n",
       "      <td>21 77777 7777</td>\n",
       "      <td>3</td>\n",
       "    </tr>\n",
       "    <tr>\n",
       "      <th>3</th>\n",
       "      <td>Carlos</td>\n",
       "      <td>21 66666 6666</td>\n",
       "      <td>4</td>\n",
       "    </tr>\n",
       "    <tr>\n",
       "      <th>4</th>\n",
       "      <td>João</td>\n",
       "      <td>21 44444 4444</td>\n",
       "      <td>6</td>\n",
       "    </tr>\n",
       "    <tr>\n",
       "      <th>5</th>\n",
       "      <td>Laura</td>\n",
       "      <td>21 33333 3333</td>\n",
       "      <td>7</td>\n",
       "    </tr>\n",
       "    <tr>\n",
       "      <th>6</th>\n",
       "      <td>Paulo</td>\n",
       "      <td>21 22222 2222</td>\n",
       "      <td>8</td>\n",
       "    </tr>\n",
       "    <tr>\n",
       "      <th>7</th>\n",
       "      <td>Clodoaldo</td>\n",
       "      <td>21 12345 6789</td>\n",
       "      <td>9</td>\n",
       "    </tr>\n",
       "    <tr>\n",
       "      <th>8</th>\n",
       "      <td>Josefina</td>\n",
       "      <td>11 98765 4321</td>\n",
       "      <td>10</td>\n",
       "    </tr>\n",
       "  </tbody>\n",
       "</table>\n",
       "</div>"
      ],
      "text/plain": [
       "        nome       telefone  codigocliente\n",
       "0     Heleno  21 99888 9988              1\n",
       "1      Maria  21 88888 8888              2\n",
       "2    Marcela  21 77777 7777              3\n",
       "3     Carlos  21 66666 6666              4\n",
       "4       João  21 44444 4444              6\n",
       "5      Laura  21 33333 3333              7\n",
       "6      Paulo  21 22222 2222              8\n",
       "7  Clodoaldo  21 12345 6789              9\n",
       "8   Josefina  11 98765 4321             10"
      ]
     },
     "execution_count": 14,
     "metadata": {},
     "output_type": "execute_result"
    }
   ],
   "source": []
  },
  {
   "cell_type": "markdown",
   "id": "a0343fe0-8a09-4331-b111-755185e3c55e",
   "metadata": {},
   "source": [
    "> Outro exemplo, agora com uma query mais elaborada\n",
    "```\n",
    "df_compras = pd.read_sql_query(\"SELECT nome, telefone, data, valor FROM compra INNER JOIN cliente on compra.codcliente=cliente.codigocliente\", conexao)\n",
    "df_compras\n",
    "```"
   ]
  },
  {
   "cell_type": "code",
   "execution_count": 15,
   "id": "93f78b15-bb8e-40f6-8aa6-852fb6e83294",
   "metadata": {},
   "outputs": [
    {
     "data": {
      "text/html": [
       "<div>\n",
       "<style scoped>\n",
       "    .dataframe tbody tr th:only-of-type {\n",
       "        vertical-align: middle;\n",
       "    }\n",
       "\n",
       "    .dataframe tbody tr th {\n",
       "        vertical-align: top;\n",
       "    }\n",
       "\n",
       "    .dataframe thead th {\n",
       "        text-align: right;\n",
       "    }\n",
       "</style>\n",
       "<table border=\"1\" class=\"dataframe\">\n",
       "  <thead>\n",
       "    <tr style=\"text-align: right;\">\n",
       "      <th></th>\n",
       "      <th>nome</th>\n",
       "      <th>telefone</th>\n",
       "      <th>data</th>\n",
       "      <th>valor</th>\n",
       "    </tr>\n",
       "  </thead>\n",
       "  <tbody>\n",
       "    <tr>\n",
       "      <th>0</th>\n",
       "      <td>Heleno</td>\n",
       "      <td>21 99888 9988</td>\n",
       "      <td>17/06/2024</td>\n",
       "      <td>15.9</td>\n",
       "    </tr>\n",
       "    <tr>\n",
       "      <th>1</th>\n",
       "      <td>Heleno</td>\n",
       "      <td>21 99888 9988</td>\n",
       "      <td>17/06/2024</td>\n",
       "      <td>1.0</td>\n",
       "    </tr>\n",
       "    <tr>\n",
       "      <th>2</th>\n",
       "      <td>Maria</td>\n",
       "      <td>21 88888 8888</td>\n",
       "      <td>18/06/2024</td>\n",
       "      <td>7.0</td>\n",
       "    </tr>\n",
       "    <tr>\n",
       "      <th>3</th>\n",
       "      <td>Marcela</td>\n",
       "      <td>21 77777 7777</td>\n",
       "      <td>18/06/2024</td>\n",
       "      <td>4.5</td>\n",
       "    </tr>\n",
       "    <tr>\n",
       "      <th>4</th>\n",
       "      <td>Carlos</td>\n",
       "      <td>21 66666 6666</td>\n",
       "      <td>18/06/2024</td>\n",
       "      <td>20.0</td>\n",
       "    </tr>\n",
       "    <tr>\n",
       "      <th>5</th>\n",
       "      <td>João</td>\n",
       "      <td>21 44444 4444</td>\n",
       "      <td>18/06/2024</td>\n",
       "      <td>34.9</td>\n",
       "    </tr>\n",
       "  </tbody>\n",
       "</table>\n",
       "</div>"
      ],
      "text/plain": [
       "      nome       telefone        data  valor\n",
       "0   Heleno  21 99888 9988  17/06/2024   15.9\n",
       "1   Heleno  21 99888 9988  17/06/2024    1.0\n",
       "2    Maria  21 88888 8888  18/06/2024    7.0\n",
       "3  Marcela  21 77777 7777  18/06/2024    4.5\n",
       "4   Carlos  21 66666 6666  18/06/2024   20.0\n",
       "5     João  21 44444 4444  18/06/2024   34.9"
      ]
     },
     "execution_count": 15,
     "metadata": {},
     "output_type": "execute_result"
    }
   ],
   "source": []
  },
  {
   "cell_type": "markdown",
   "id": "81ab0290-1bba-4fe5-95ca-2190e1efed15",
   "metadata": {},
   "source": [
    "> Durante o processo de análise de dados, uma atividade recorrente após fazer o tratamento em dados recuperados do banco de dados é salvar uma cópia desses dados tratados.\n",
    "> Uma opção é salvar em arquivos csv. Para isso, basta usar a função do Pandas `.to_csv()`. O argumento `index=False` serve para não guardar o índice de cada linha no csv.\n",
    "```\n",
    "df_compras.to_csv('compras.csv', index=False)\n",
    "```"
   ]
  },
  {
   "cell_type": "code",
   "execution_count": 16,
   "id": "78a97aee-a8e4-4774-b9af-9fa4dc49ec65",
   "metadata": {},
   "outputs": [],
   "source": []
  },
  {
   "cell_type": "markdown",
   "id": "9bfaf60e-321f-4cff-b6fb-1aca31f17fff",
   "metadata": {},
   "source": [
    "> Suponha que queiramos criar um gráfico para visualizar quem foram os clientes que mais gastaram.\n",
    ">\n",
    "> Primeiro, vamos agrupar o dataframe de compras por nome e somar o valor das compras de cada cliente.\n",
    "> Depois, vamos ordenar do maior para o menor valor.\n",
    "```\n",
    "df_analysis = df_compras.groupby('nome').agg(\n",
    "    valor_gasto=('valor', 'sum')\n",
    ").reset_index().sort_values('valor_gasto', ascending=False)\n",
    "df_analysis\n",
    "```"
   ]
  },
  {
   "cell_type": "code",
   "execution_count": 17,
   "id": "68190f77-f67a-43c0-8e70-7afe23f24ca4",
   "metadata": {},
   "outputs": [
    {
     "data": {
      "text/html": [
       "<div>\n",
       "<style scoped>\n",
       "    .dataframe tbody tr th:only-of-type {\n",
       "        vertical-align: middle;\n",
       "    }\n",
       "\n",
       "    .dataframe tbody tr th {\n",
       "        vertical-align: top;\n",
       "    }\n",
       "\n",
       "    .dataframe thead th {\n",
       "        text-align: right;\n",
       "    }\n",
       "</style>\n",
       "<table border=\"1\" class=\"dataframe\">\n",
       "  <thead>\n",
       "    <tr style=\"text-align: right;\">\n",
       "      <th></th>\n",
       "      <th>nome</th>\n",
       "      <th>valor_gasto</th>\n",
       "    </tr>\n",
       "  </thead>\n",
       "  <tbody>\n",
       "    <tr>\n",
       "      <th>2</th>\n",
       "      <td>João</td>\n",
       "      <td>34.9</td>\n",
       "    </tr>\n",
       "    <tr>\n",
       "      <th>0</th>\n",
       "      <td>Carlos</td>\n",
       "      <td>20.0</td>\n",
       "    </tr>\n",
       "    <tr>\n",
       "      <th>1</th>\n",
       "      <td>Heleno</td>\n",
       "      <td>16.9</td>\n",
       "    </tr>\n",
       "    <tr>\n",
       "      <th>4</th>\n",
       "      <td>Maria</td>\n",
       "      <td>7.0</td>\n",
       "    </tr>\n",
       "    <tr>\n",
       "      <th>3</th>\n",
       "      <td>Marcela</td>\n",
       "      <td>4.5</td>\n",
       "    </tr>\n",
       "  </tbody>\n",
       "</table>\n",
       "</div>"
      ],
      "text/plain": [
       "      nome  valor_gasto\n",
       "2     João         34.9\n",
       "0   Carlos         20.0\n",
       "1   Heleno         16.9\n",
       "4    Maria          7.0\n",
       "3  Marcela          4.5"
      ]
     },
     "execution_count": 17,
     "metadata": {},
     "output_type": "execute_result"
    }
   ],
   "source": []
  },
  {
   "cell_type": "markdown",
   "id": "fd839828-6afc-40ef-91ac-22bce731a9e1",
   "metadata": {},
   "source": [
    "> Agora importaremos o matplotlib e criaremos uma visualização desse dado utilizando um gráfico de barras.\n",
    "```\n",
    "import matplotlib.pyplot as plt\n",
    "plt.figure(figsize=(10, 6))\n",
    "plt.barh(df_analysis['nome'], df_analysis['valor_gasto'])\n",
    "plt.xlabel('Valor gasto')\n",
    "plt.ylabel('Cliente')\n",
    "plt.title('Valores gastos pelos clientes')\n",
    "plt.show()\n",
    "```"
   ]
  },
  {
   "cell_type": "code",
   "execution_count": 18,
   "id": "b3314d79-b419-4c66-8ad7-d80270128e6e",
   "metadata": {},
   "outputs": [
    {
     "data": {
      "image/png": "[encoded data removed]",
      "text/plain": [
       "<Figure size 1000x600 with 1 Axes>"
      ]
     },
     "metadata": {},
     "output_type": "display_data"
    }
   ],
   "source": []
  },
  {
   "cell_type": "markdown",
   "id": "0f4731b4-d792-4fe4-9939-afdadc070ed2",
   "metadata": {},
   "source": [
    "> Por fim, vamos fechar a conexão com o banco de dados.\n",
    "```\n",
    "conexao.close()\n",
    "```"
   ]
  },
  {
   "cell_type": "code",
   "execution_count": 19,
   "id": "99524f32-a380-479d-9051-540ee45e812e",
   "metadata": {},
   "outputs": [],
   "source": []
  }
 ],
 "metadata": {
  "kernelspec": {
   "display_name": "Python 3 (ipykernel)",
   "language": "python",
   "name": "python3"
  },
  "language_info": {
   "codemirror_mode": {
    "name": "ipython",
    "version": 3
   },
   "file_extension": ".py",
   "mimetype": "text/x-python",
   "name": "python",
   "nbconvert_exporter": "python",
   "pygments_lexer": "ipython3",
   "version": "3.11.6"
  }
 },
 "nbformat": 4,
 "nbformat_minor": 5
}
