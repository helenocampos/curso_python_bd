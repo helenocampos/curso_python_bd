{
 "cells": [
  {
   "cell_type": "markdown",
   "metadata": {},
   "source": [
    "\n",
    "<img align=\"left\" src = https://scienceserver.linea.org.br/images/linea-logo.png width=120 style=\"padding: 20px\"> <br> \n",
    "<img align=\"left\" src = https://jupyter.org/assets/homepage/hublogo.svg width=200 style=\"padding: 20px\"> <br> \n",
    "<br>\n",
    "<br>\n",
    "<br>\n",
    "<br>\n",
    "\n",
    " \n",
    "\n",
    "Notebook original: Julia Gschwend\n",
    "\n",
    "Adaptação: Heleno Campos e Marcela Vitti\n",
    "\n",
    "***\n"
   ]
  },
  {
   "cell_type": "markdown",
   "metadata": {},
   "source": [
    "Bem vindo(a) ao LIneA JupyterHub! \n",
    "\n",
    "O LIneA JupyterHub oferece acesso a dados públicos disponíveis online e a dados privados de levantamentos fotométricos cuja participação de cientistas brasileiros com _data rights_ é apoiada pelo LIneA. Neste notebook vamos exemplificar o acesso aos dados públicos do levantamento _Gaia_. Caso precise de ajuda, entre em contato pelo e-mail: [helpdesk@linea.org.br](mailto:helpdesk@linea.org.br)\n",
    "\n",
    "\n",
    "## 1. Sobre os dados"
   ]
  },
  {
   "cell_type": "markdown",
   "metadata": {},
   "source": [
    "\n",
    "<img align=\"left\" src=https://gaia.aip.de/cms/data/img/eDR3_flux_hammer_1000x500_v1.png width=400 style=\"background-color:black; padding: 20px; margin-right: 2em\"> <br>\n",
    "\n",
    "\n"
   ]
  },
  {
   "cell_type": "markdown",
   "metadata": {},
   "source": [
    "O [Observatório Espacial Gaia](https://www.esa.int/Science_Exploration/Space_Science/Gaia) é uma missão da Agência Espacial Europeia (ESA) dedicada a mapear com precisão a posição, a distância e o movimento de mais de 1,8 bilhão de estrelas em toda a Via Láctea, com o objetivo de entender a estrutura e evolução da galáxia. Através de medições de astrometria, fotometria e espectroscopia, o Gaia registra dados em três bandas no espectro visível: G, BP (Blue Photometer) e RP (Red Photometer), permitindo uma caracterização detalhada de estrelas, além da detecção de milhares de novos asteroides, exoplanetas e outros objetos celestes.\n",
    "\n",
    "O [Gaia Data Release 3 (DR3)](https://www.cosmos.esa.int/web/gaia/data-release-3), disponibilizado ao público em 2022, é o conjunto de dados mais extenso e detalhado da missão até o momento. O DR3 fornece informações astrométricas e fotométricas aprimoradas, além de incluir novos produtos, como composições químicas, temperaturas estelares, velocidades radiais e detecções de variação temporal para cerca de 1,8 bilhão de fontes observadas. Os dados cobrem todo o céu e são acessíveis através de diversos portais, incluindo o Gaia Archive e serviços compatíveis com o protocolo TAP, como o Gaia DR3 TAP+ para acesso via consultas SQL. Ele também pode ser acessado aqui pelo JupyterHub, como veremos a seguir."
   ]
  },
  {
   "cell_type": "markdown",
   "metadata": {},
   "source": [
    "## 2. Acesso ao banco de dados "
   ]
  },
  {
   "cell_type": "markdown",
   "metadata": {},
   "source": [
    "Dentro da plataforma LIneA JupyterHub, o acesso ao banco de dados é feito através da biblioteca [`dblinea`](https://github.com/linea-it/dblinea), que já está disponível no ambiente. Confira a documentação completa da biblioteca `dblinea` [neste link](https://dblinea.readthedocs.io/en/latest/index.html).\n"
   ]
  },
  {
   "cell_type": "code",
   "execution_count": null,
   "metadata": {
    "tags": []
   },
   "outputs": [],
   "source": [
    "import matplotlib.pyplot as plt\n",
    "import pandas as pd\n",
    "from astropy import units as u\n",
    "from astropy.coordinates import SkyCoord\n",
    "\n",
    "from dblinea import DBBase\n",
    "\n",
    "%reload_ext autoreload\n",
    "%autoreload 2"
   ]
  },
  {
   "cell_type": "markdown",
   "metadata": {},
   "source": [
    "**Leitura dos dados**\n"
   ]
  },
  {
   "cell_type": "markdown",
   "metadata": {},
   "source": [
    "A classe `DBBase` faz a conexão com o banco de dados e oferece algumas funcionalidades como veremos a seguir. Nos exemplos abaixo, vamos acessar os dados da tabela **source** do catálogo **gaia_dr3**. "
   ]
  },
  {
   "cell_type": "code",
   "execution_count": null,
   "metadata": {
    "tags": []
   },
   "outputs": [],
   "source": [
    "db = DBBase()\n",
    "schema = \"gaia_dr3\"\n",
    "tablename = \"source\""
   ]
  },
  {
   "cell_type": "markdown",
   "metadata": {},
   "source": [
    "Para obter a lista de colunas disponíveis: "
   ]
  },
  {
   "cell_type": "code",
   "execution_count": null,
   "metadata": {
    "scrolled": true,
    "tags": []
   },
   "outputs": [],
   "source": [
    "db.get_table_columns(tablename, schema=schema)"
   ]
  },
  {
   "cell_type": "markdown",
   "metadata": {},
   "source": [
    "Para saber o tipo de dado em cada coluna: "
   ]
  },
  {
   "cell_type": "code",
   "execution_count": null,
   "metadata": {
    "scrolled": true,
    "tags": []
   },
   "outputs": [],
   "source": [
    "db.describe_table(tablename, schema=schema)"
   ]
  },
  {
   "cell_type": "markdown",
   "metadata": {
    "tags": []
   },
   "source": [
    "A função `fetchall(query)` faz a consulta no banco de dados e retorna uma lista de tuplas com os dados referentes à _query_ fornecida no argumento. Por exemplo, vamos consultar o identificador único e as coordenadas dos objetos nas 10 primeiras linhas da tabela.  "
   ]
  },
  {
   "cell_type": "code",
   "execution_count": null,
   "metadata": {
    "tags": []
   },
   "outputs": [],
   "source": [
    "query = \"SELECT source_id, ra, dec FROM gaia_dr3.source limit 10\"\n",
    "lista_10_objetos = db.fetchall(query)\n",
    "lista_10_objetos"
   ]
  },
  {
   "cell_type": "markdown",
   "metadata": {
    "tags": []
   },
   "source": [
    "A função `fetchall_dict(query)` faz a consulta no banco de dados e retorna uma lista de dicionários com os dados referentes à _query_ fornecida no argumento. Vamos repetir a consulta do exemplo anterior, ou seja, vamos utilizar o mesmo _SQL statement_ atribuído à variável `query`.    "
   ]
  },
  {
   "cell_type": "code",
   "execution_count": null,
   "metadata": {
    "tags": []
   },
   "outputs": [],
   "source": [
    "dict_10_objetos = db.fetchall_dict(query)\n",
    "dict_10_objetos"
   ]
  },
  {
   "cell_type": "markdown",
   "metadata": {
    "tags": []
   },
   "source": [
    "A função `fetchall_df(query)` faz a consulta no banco de dados e retorna um objeto do tipo [pandas.DataFrame](https://pandas.pydata.org/docs/reference/api/pandas.DataFrame.html) com os dados referentes à _query_ fornecida no argumento. Vamos repetir a consulta dos exemplo anteriores:"
   ]
  },
  {
   "cell_type": "code",
   "execution_count": null,
   "metadata": {
    "tags": []
   },
   "outputs": [],
   "source": [
    "dataframe_10_objetos = db.fetchall_df(query)\n",
    "dataframe_10_objetos"
   ]
  },
  {
   "cell_type": "markdown",
   "metadata": {
    "tags": []
   },
   "source": [
    "### Exemplos "
   ]
  },
  {
   "cell_type": "markdown",
   "metadata": {},
   "source": [
    "Para ilustrar a visualização de uma pequena amostra de dados, vamos construir o diagrama cor-magnitude com as estrelas da [galáxia anã de Sculptor](https://en.wikipedia.org/wiki/Sculptor_Dwarf_Galaxy). \n",
    "\n",
    "|Coordenadas Equatoriais| |\n",
    "|:-- |--- | \n",
    "|Ascensão Reta| 01h 00m 09.3s |\n",
    "|Declinação| −33° 42' 33\" |\n"
   ]
  },
  {
   "cell_type": "markdown",
   "metadata": {},
   "source": [
    "A tabela abaixo traz os significados das colunas que vamos utilizar para fazer a consulta no banco de dados. A lista completa de colunas disponíveis na tabela **source** do **gaia_dr3** está disponível [nesta página](https://userquery.linea.org.br/metadata/gaia_dr3/source/). \r\n",
    "\r\n",
    "\r\n",
    "|Coluna | Significado |\r\n",
    "|---|---|\r\n",
    "|source_id | Unique source identifier (unique within a particular Data Release)|\r\n",
    "|ra | Right ascension [degrees]|\r\n",
    "|dec | Declination [degrees] |\r\n",
    "|phot_g_mean_mag | G-band mean magnitude |\r\n",
    "|phot_bp_mean_mag| Integrated BP mean magnitude |\r\n",
    "|phot_rp_mean_mag | Integrated RP mean magnitude |"
   ]
  },
  {
   "cell_type": "markdown",
   "metadata": {},
   "source": [
    "Para fazer uma busca pelas coordenadas no banco, precisamos converter as unidades para graus. Para isto, vamos usar a classe `SkyCoord` do módulo `astropy.coordinates` (veja detalhes na [documentação do Astropy](https://docs.astropy.org/en/stable/api/astropy.coordinates.SkyCoord.html)):"
   ]
  },
  {
   "cell_type": "code",
   "execution_count": null,
   "metadata": {
    "tags": []
   },
   "outputs": [],
   "source": [
    "c = SkyCoord('01h00m09.3s', '−33d42m33s', frame='icrs')\n",
    "c  "
   ]
  },
  {
   "cell_type": "code",
   "execution_count": null,
   "metadata": {
    "tags": []
   },
   "outputs": [],
   "source": [
    "print(f\"R.A.: {c.ra.deg:.1f} degrees\")\n",
    "print(f\"Dec.: {c.dec.deg:.1f} degrees\")"
   ]
  },
  {
   "cell_type": "markdown",
   "metadata": {},
   "source": [
    "Os dois exemplos abaixos mostram a consulta das magnitudes nas bandas _g, BP, RP_."
   ]
  },
  {
   "cell_type": "markdown",
   "metadata": {},
   "source": [
    "#### **Exemplo 1: seleção de uma região \"retangular\"**\n",
    "\n",
    "Para selecionar qualquer amostra com base nas coordenadas de posição, recomenda-se utilizar as funções da biblioteca [Q3C](https://github.com/segasai/q3c) ([Koposov, S., & Bartunov, O. 2006](http://adsabs.harvard.edu/abs/2006ASPC..351..735K)) para tirar vantagem da indexação das colunas. Uma busca por uma região no céu definida por faixas de coordenadas resultaria em uma varredura em todos os ~700 milhões de objetos, o que pode levar um tempo considerável!   \n",
    "\n",
    "\n",
    "Para consultar objetos dentro de uma região contida em um polígono, basta informar os vértices do polígono pra a função `q3c_poly_query()`. A documentação das funções está disponível no [repositório do Q3C](https://github.com/segasai/q3c).  "
   ]
  },
  {
   "cell_type": "markdown",
   "metadata": {},
   "source": [
    "Vamos selecionar as magnitudes de uma amostra de estrelas em uma região \"quadrada\" (na esfera celeste) de lado igual a 1 grau, ou seja, com uma margem de 0.5 graus em torno da posição do nosso alvo. \n",
    "\n",
    "**Vértices (ra, dec)**: (14.5, -34.2), (15.5, -34.2), (15.5, -33.2), (14.5, -33.2)\n",
    "\n",
    "A query ficaria assim (o uso de letras maiúsculas é opcional):  \n",
    "\n",
    "```sql \n",
    "SELECT source_id, ra, dec, phot_g_mean_mag, phot_bp_mean_mag, phot_rp_mean_mag \n",
    "FROM gaia_dr3.source \n",
    "WHERE q3c_poly_query(ra, dec, ARRAY[14.5, -34.2, 15.5, -34.2, 15.5, -33.2, 14.5, -33.2])\n",
    "````"
   ]
  },
  {
   "cell_type": "code",
   "execution_count": null,
   "metadata": {
    "tags": []
   },
   "outputs": [],
   "source": [
    "query_1 = \"\"\"\n",
    "    SELECT source_id, ra, dec, phot_g_mean_mag, phot_bp_mean_mag, phot_rp_mean_mag \n",
    "    FROM gaia_dr3.source\n",
    "    WHERE q3c_poly_query(ra, dec, ARRAY[14.5, -34.2, 15.5, -34.2, 15.5, -33.2, 14.5, -33.2])\n",
    "\"\"\"        \n",
    "query_1 "
   ]
  },
  {
   "cell_type": "code",
   "execution_count": null,
   "metadata": {
    "tags": []
   },
   "outputs": [],
   "source": [
    "%%time\n",
    "dados_exemplo_1 = db.fetchall_df(query_1)"
   ]
  },
  {
   "cell_type": "code",
   "execution_count": null,
   "metadata": {},
   "outputs": [],
   "source": [
    "dados_exemplo_1"
   ]
  },
  {
   "cell_type": "markdown",
   "metadata": {},
   "source": [
    "#### **Exemplo 2: seleção de uma região  circular com Q3C**  \n",
    "\n",
    "Para selecionar uma região circular, basta informar as coordenadas do centro da seleção e um raio (em graus) nos argumentos da função `q3c_radial_query()`. Para um diâmetro de 1 grau, a query ficaria assim:\n",
    "    \n",
    "```sql\n",
    "    SELECT source_id, ra, dec, phot_g_mean_mag, phot_bp_mean_mag, phot_rp_mean_mag \n",
    "    FROM gaia_dr3.source\n",
    "    WHERE q3c_radial_query(ra, dec, 15.0, -33.7, 0.5)\n",
    "````"
   ]
  },
  {
   "cell_type": "code",
   "execution_count": null,
   "metadata": {
    "tags": []
   },
   "outputs": [],
   "source": [
    "query_2 = \"\"\"\n",
    "    SELECT source_id, ra, dec, phot_g_mean_mag, phot_bp_mean_mag, phot_rp_mean_mag \n",
    "    FROM gaia_dr3.source\n",
    "    WHERE q3c_radial_query(ra, dec, 15.0, -33.7, 0.5)\n",
    "\"\"\"\n",
    "query_2    "
   ]
  },
  {
   "cell_type": "code",
   "execution_count": null,
   "metadata": {
    "tags": []
   },
   "outputs": [],
   "source": [
    "%%time\n",
    "dados_exemplo_2 = db.fetchall_df(query_2)"
   ]
  },
  {
   "cell_type": "code",
   "execution_count": null,
   "metadata": {},
   "outputs": [],
   "source": [
    "dados_exemplo_2"
   ]
  },
  {
   "cell_type": "markdown",
   "metadata": {},
   "source": [
    "### Gráficos \n",
    "\n",
    "A seguir, veremos exemplos de gráficos estáticos básicos com a biblioteca Matplotlib. \n",
    "\n",
    "Documentação da biblioteca: [matplotlib.org](https://matplotlib.org/)\n",
    "\n",
    "Dicas: [Cheatsheets for Matplotlib users](https://github.com/matplotlib/cheatsheets#cheatsheets)"
   ]
  },
  {
   "cell_type": "markdown",
   "metadata": {},
   "source": [
    "#### Distribuição espacial"
   ]
  },
  {
   "cell_type": "code",
   "execution_count": null,
   "metadata": {
    "tags": []
   },
   "outputs": [],
   "source": [
    "%%time\n",
    "plt.figure(figsize=[10,5], dpi=300)\n",
    "plt.suptitle(\"Objetos do Gaia DR3\", fontsize=14)\n",
    "plt.subplot(1,2,1)\n",
    "plt.plot(dados_exemplo_1.ra, dados_exemplo_1.dec, 'k.', alpha=0.1)\n",
    "plt.xlabel(\"R.A. (deg)\", fontsize=14)\n",
    "plt.ylabel(\"Dec. (deg)\", fontsize=14)\n",
    "plt.xticks(fontsize=12)\n",
    "plt.yticks(fontsize=12)\n",
    "plt.subplot(1,2,2)\n",
    "plt.plot(dados_exemplo_2.ra, dados_exemplo_2.dec, 'k.', alpha=0.1)\n",
    "plt.xlabel(\"R.A. (deg)\", fontsize=14)\n",
    "plt.ylabel(\"Dec. (deg)\", fontsize=14)\n",
    "plt.xticks(fontsize=12)\n",
    "plt.yticks(fontsize=12)\n",
    "plt.tight_layout()"
   ]
  },
  {
   "cell_type": "markdown",
   "metadata": {},
   "source": [
    "#### Mapa de densidade"
   ]
  },
  {
   "cell_type": "code",
   "execution_count": null,
   "metadata": {
    "tags": []
   },
   "outputs": [],
   "source": [
    "%%time\n",
    "plt.figure(figsize=[12,5], dpi=300)\n",
    "plt.suptitle(\"Objetos do Gaia DR3\", fontsize=14)\n",
    "plt.subplot(1,2,1)\n",
    "plt.hist2d(dados_exemplo_1.ra, dados_exemplo_1.dec, bins=50)\n",
    "plt.xlabel(\"R.A. (deg)\", fontsize=14)\n",
    "plt.ylabel(\"Dec. (deg)\", fontsize=14)\n",
    "plt.colorbar(label=\"density of points\")\n",
    "plt.xticks(fontsize=12)\n",
    "plt.yticks(fontsize=12)\n",
    "plt.subplot(1,2,2)\n",
    "plt.hist2d(dados_exemplo_2.ra, dados_exemplo_2.dec, bins=50)\n",
    "plt.xlabel(\"R.A. (deg)\", fontsize=14)\n",
    "plt.ylabel(\"Dec. (deg)\", fontsize=14)\n",
    "plt.colorbar(label=\"density of points\")\n",
    "plt.xticks(fontsize=12)\n",
    "plt.yticks(fontsize=12)\n",
    "plt.tight_layout()"
   ]
  },
  {
   "cell_type": "markdown",
   "metadata": {},
   "source": [
    "*** "
   ]
  },
  {
   "cell_type": "markdown",
   "metadata": {},
   "source": [
    "Para o gráfico do CMD, vamos utilizar apenas o exemplo 2. "
   ]
  },
  {
   "cell_type": "code",
   "execution_count": null,
   "metadata": {
    "tags": []
   },
   "outputs": [],
   "source": [
    "dados = dados_exemplo_2\n",
    "del dados_exemplo_1   # limpando da memória os dataframes\n",
    "del dados_exemplo_2   # que não vamos mais utilizar "
   ]
  },
  {
   "cell_type": "markdown",
   "metadata": {},
   "source": [
    "Por conveniência, podemos alterar os nomes de algumas colunas. "
   ]
  },
  {
   "cell_type": "code",
   "execution_count": null,
   "metadata": {
    "tags": []
   },
   "outputs": [],
   "source": [
    "new_columns = {\"source_id\": \"object_id\",\n",
    "               \"phot_g_mean_mag\": \"mag_g\",\n",
    "               \"phot_bp_mean_mag\": \"mag_bp\",\n",
    "               \"phot_rp_mean_mag\": \"mag_rp\",\n",
    "              }\n",
    "\n",
    "dados.rename(columns=new_columns, inplace=True)"
   ]
  },
  {
   "cell_type": "code",
   "execution_count": null,
   "metadata": {
    "tags": []
   },
   "outputs": [],
   "source": [
    "dados.info()"
   ]
  },
  {
   "cell_type": "code",
   "execution_count": null,
   "metadata": {
    "tags": []
   },
   "outputs": [],
   "source": [
    "dados.head()"
   ]
  },
  {
   "cell_type": "markdown",
   "metadata": {},
   "source": [
    "Cálculo da cor _g-r_ (nova coluna no _dataframe_ **dados**). "
   ]
  },
  {
   "cell_type": "code",
   "execution_count": null,
   "metadata": {
    "tags": []
   },
   "outputs": [],
   "source": [
    "dados[\"bp_rp\"] = dados.mag_bp - dados.mag_rp"
   ]
  },
  {
   "cell_type": "code",
   "execution_count": null,
   "metadata": {
    "tags": []
   },
   "outputs": [],
   "source": [
    "dados.head()"
   ]
  },
  {
   "cell_type": "code",
   "execution_count": null,
   "metadata": {
    "tags": []
   },
   "outputs": [],
   "source": [
    "dados.count()"
   ]
  },
  {
   "cell_type": "code",
   "execution_count": null,
   "metadata": {},
   "outputs": [],
   "source": [
    "dados = dados.dropna()\n",
    "dados.count()"
   ]
  },
  {
   "cell_type": "code",
   "execution_count": null,
   "metadata": {
    "tags": []
   },
   "outputs": [],
   "source": [
    "dados.describe()"
   ]
  },
  {
   "cell_type": "code",
   "execution_count": null,
   "metadata": {},
   "outputs": [],
   "source": [
    "plt.figure(figsize=(8, 6))\n",
    "plt.hexbin(dados.bp_rp, dados.mag_g, gridsize=100, bins='log')\n",
    "plt.gca().invert_yaxis()  # Inverte o eixo y, pois magnitudes maiores são mais fracas\n",
    "plt.xlabel('BP - RP (Cor)')\n",
    "plt.ylabel('G (Magnitude)')\n",
    "plt.title('Diagrama Cor-Magnitude (CMD) - Gaia DR3')\n",
    "# plt.xlim(-0.5,1.5)\n",
    "plt.ylim(22,10)\n",
    "plt.colorbar(label='Densidade de estrelas')\n",
    "plt.show()"
   ]
  }
 ],
 "metadata": {
  "kernelspec": {
   "display_name": "Python 3 (ipykernel)",
   "language": "python",
   "name": "python3"
  },
  "language_info": {
   "codemirror_mode": {
    "name": "ipython",
    "version": 3
   },
   "file_extension": ".py",
   "mimetype": "text/x-python",
   "name": "python",
   "nbconvert_exporter": "python",
   "pygments_lexer": "ipython3",
   "version": "3.11.6"
  }
 },
 "nbformat": 4,
 "nbformat_minor": 4
}
